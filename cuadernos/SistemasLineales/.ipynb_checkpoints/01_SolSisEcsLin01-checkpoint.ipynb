{
 "cells": [
  {
   "cell_type": "markdown",
   "id": "1b5d0ed5-772e-42f5-8951-d9c574c5bd4f",
   "metadata": {},
   "source": [
    "# Sistemas de ecuaciones lineales: introducción\n",
    "\n",
    "**Objetivo general**\n",
    "- Aplicar el pensamiento computacional para plantear la solución de un problema simple en términos de sistemas de ecuaciones lineales.\n",
    "\n",
    "**Objetivos particulares**\n",
    "- Entender como plantear un problema simple en términos de un sistema de ecuaciones lineales.\n",
    "- Usar funciones de la biblioteca `numpy` para resolver el problema.\n",
    "- Comparar varios métodos para la solución de problemas más complejos.\n",
    "\n",
    "## Contenido\n",
    "- [1 - Planes de telefonía móvil.](#1)\n",
    "    - [1.1 - Modelo matemático.](#1-1)\n",
    "        - [Ejercicio 1 - Gráfica de rectas.](#ej-1)\n",
    "    - [1.2 - Sistema de ecuaciones lineales.](#1-2)\n",
    "        - [Ejercicio 2. Solución del sistema lineal.](#ej-2)\n",
    "- [2 - Sistemas de ecuaciones lineales en general.](#2)\n",
    "- [3 - Transferencia de calor.](#3)\n",
    "    - [3.1 - Métodos estacionarios para solución de sistemas lineales.](#3-1)\n",
    "        - [Ejercicio 3. Evaluación de métodos.](#ej-3)"
   ]
  },
  {
   "cell_type": "markdown",
   "id": "3b87eea5-b73a-454f-bb9f-103c0446b488",
   "metadata": {},
   "source": [
    "<a name='1'></a>\n",
    "## Planes de telefonía móvil.\n",
    "\n",
    "Dos compañías de telefonía compiten por ganar clientes. En la tabla que sigue se muestra el costo de la renta y el costo por Megabyte (MB) de datos de cada compañía.\n",
    "\n",
    "|    | Renta mensual | Costo por MB |\n",
    "|:--:|:----: | :----------: |\n",
    "| A  | $200$ | $0.10$       |\n",
    "| B  | $20$  | $0.30$       |\n",
    "\n",
    "**¿Cómo podríamos decidir cuál de estas companías conviene contratar?**"
   ]
  },
  {
   "cell_type": "markdown",
   "id": "683493d4-8758-4a03-a0df-a17fa798192e",
   "metadata": {},
   "source": [
    "<a name='1-1'></a>\n",
    "### Modelo matemático\n",
    "- Observamos en la tabla anterior que la compañía A tiene un precio fijo de 200 pesos mensuales que es 10 veces mayor al precio que cobra la compañía B (20 pesos). \n",
    "- Por otro lado, la compañía B cobra 0.30 pesos por cada MB, que es 3 veces mayor al precio por MB de la compañía A. \n",
    "- El precio final mensual de cada compañía depende básicamente de cuantos MB se usen. \n",
    "\n",
    "Podemos escribir la forma en que cambia el precio de cada compañía en función de los MB usados:\n",
    "\n",
    "$\n",
    "\\begin{array}{ccc}\n",
    "P_A & = & 0.10 x + 200 \\tag{1}\\\\\n",
    "P_B & = & 0.30 x + 20\n",
    "\\end{array}\n",
    "$\n",
    "\n",
    "donde $x$ representa el número de MB usados durante un mes. "
   ]
  },
  {
   "cell_type": "markdown",
   "id": "f48c243f-cf3e-4c79-a9bf-c9211370fbde",
   "metadata": {},
   "source": [
    "<a name='ej-1'></a>\n",
    "#### **<font color=\"SlateBlue\">Ejercicio 1. Gráfica de rectas.</font>**\n",
    "\n",
    "<font color=\"Navy\">En el código siguiente complete las fórmulas para cada compañía de acuerdo con las ecuaciones dadas en (1) y posteriormente ejecute el código para obtener una gráfica de cómo cambia el precio en función de los MB utilizados.</font>"
   ]
  },
  {
   "cell_type": "code",
   "execution_count": 3,
   "id": "4048f090-9ac7-4e55-bf55-eb4f5b8ba34c",
   "metadata": {},
   "outputs": [],
   "source": [
    "%run \"./init.ipynb\""
   ]
  },
  {
   "cell_type": "code",
   "execution_count": 4,
   "id": "e63d202e-4997-4bb3-acf6-d3e77b11dfb8",
   "metadata": {},
   "outputs": [],
   "source": [
    "# Importación de las bibliotecas numpy y matplotlib\n",
    "import numpy as np\n",
    "import matplotlib.pyplot as plt\n",
    "import macti_lib.visual"
   ]
  },
  {
   "cell_type": "markdown",
   "id": "217f3ece-bfce-44c4-b7a3-d524ad90c49d",
   "metadata": {},
   "source": [
    "Fórmulas a implementar:\n",
    "$\n",
    "\\begin{array}{ccc}\n",
    "P_A & = & 0.10 x + 200\\\\\n",
    "P_B & = & 0.30 x + 20\n",
    "\\end{array}\n",
    "$"
   ]
  },
  {
   "cell_type": "code",
   "execution_count": 5,
   "id": "15fe6aca-3fc9-49de-b916-61d366bb44ad",
   "metadata": {},
   "outputs": [],
   "source": [
    "# Megabytes desde 0 hasta 1500 (1.5 GB)\n",
    "x = np.linspace(0,1500,10)\n",
    "\n",
    "# Fórmulas de cada compañía\n",
    "PA = 0.10 * x + 200\n",
    "PB = 0.30 * x + 20"
   ]
  },
  {
   "cell_type": "code",
   "execution_count": 6,
   "id": "136fd049-24f3-4ed5-9080-10425021f504",
   "metadata": {},
   "outputs": [
    {
     "name": "stdout",
     "output_type": "stream",
     "text": [
      "\u001b[32m¡Tu resultado es correcto!\n"
     ]
    }
   ],
   "source": [
    "e.verifica(PA, 1)"
   ]
  },
  {
   "cell_type": "code",
   "execution_count": 7,
   "id": "af31d330-b454-48eb-afd0-0a487f4d25ba",
   "metadata": {},
   "outputs": [
    {
     "name": "stdout",
     "output_type": "stream",
     "text": [
      "\u001b[32m¡Tu resultado es correcto!\n"
     ]
    }
   ],
   "source": [
    "e.verifica(PB, 2)"
   ]
  },
  {
   "cell_type": "code",
   "execution_count": 8,
   "id": "93f450c8-c17e-41eb-9bfe-beea1e509fd5",
   "metadata": {},
   "outputs": [
    {
     "data": {
      "image/png": "[encoded data removed]",
      "text/plain": [
       "<Figure size 512x384 with 1 Axes>"
      ]
     },
     "metadata": {},
     "output_type": "display_data"
    }
   ],
   "source": [
    "# Gráfica de ambos casos\n",
    "plt.plot(x, PA, label = 'A')\n",
    "plt.plot(x, PB, label = 'B')\n",
    "\n",
    "# Decoración de la gráfica\n",
    "plt.xlabel('MB')\n",
    "plt.ylabel('Precio final')\n",
    "plt.legend()\n",
    "plt.show()"
   ]
  },
  {
   "cell_type": "markdown",
   "id": "6ebff79d-06e6-4678-bcf4-494ad6f59c28",
   "metadata": {},
   "source": [
    "**¿Qué observamos en la figura anterior?**\n",
    "\n",
    "Para decidir cuál de los dos compañías elegir, debemos saber cuantos MB gastamos al mes. En la figura se ve que al principio, con pocos MB usados conviene contratar a la compañía B. Pero después, si hacemos uso intenso de nuestras redes sociales, el consumo de MB aumenta y como consecuencia el precio de la compañía A es más barato.\n",
    "\n",
    "**¿Será posible determinar con precisión el punto de cruce de las rectas?**\n"
   ]
  },
  {
   "cell_type": "markdown",
   "id": "c0944e5f-ce80-4c8c-a59d-33fe50a0fe71",
   "metadata": {},
   "source": [
    "<a name='1-2'></a>\n",
    "### Sistema de ecuaciones lineales.\n",
    "\n",
    "Las ecuaciones $(1)$ tienen la forma típica de una recta: $y = m x + b$\n",
    "\n",
    "Para la compañía A tenemos que $m = 0.10$ y $b = 200$, mientras que para la compañía B tenemos $m = 0.35$ y $b = 20$, entonces escribimos:\n",
    "\n",
    "$$\n",
    "\\begin{array}{ccc}\n",
    "y & = & 0.10 x + 200 \\\\\n",
    "y & = & 0.35 x + 20\n",
    "\\end{array}\n",
    "$$\n",
    "\n",
    "Ahora, es posible escribir las ecuaciones de las líneas rectas en forma de un sistema de ecuaciones lineales como sigue:\n",
    "\n",
    "$$\n",
    "\\left[\n",
    "\\begin{array}{cc}\n",
    "0.10 & -1 \\\\\n",
    "0.35 & -1\n",
    "\\end{array} \\right]\n",
    "\\left[\n",
    "\\begin{array}{c}\n",
    "x_{0} \\\\\n",
    "x_{1}\n",
    "\\end{array} \\right] =\n",
    "\\left[\n",
    "\\begin{array}{c}\n",
    "-200 \\\\ \n",
    "-20\n",
    "\\end{array} \\right] \\tag{2}\n",
    "$$\n",
    "\n",
    "donde hemos renombrado las variables como $x \\equiv x_0$ y $y \\equiv x_1$. **¿Puede verificar que el sistema (2) es correcto?**\n",
    "\n",
    "Si resolvemos el sistema (2), entonces será posible conocer de manera precisa el cruce de las rectas."
   ]
  },
  {
   "cell_type": "markdown",
   "id": "96f4c2f9-08a0-4646-a22b-f5b78b834e77",
   "metadata": {},
   "source": [
    "<a name='ej-2'></a>\n",
    "#### **<font color=\"SlateBlue\">Ejercicio 2. Solución del sistema lineal.</font>**\n",
    "\n",
    "---\n",
    "<font color=\"Navy\">1. En el siguiente código, complete los datos de la matriz `A` y el vector `b`. </font>\n",
    "\n",
    "---"
   ]
  },
  {
   "cell_type": "code",
   "execution_count": 9,
   "id": "18ba27f1-caea-4529-a589-0baa9f02599a",
   "metadata": {},
   "outputs": [
    {
     "name": "stdout",
     "output_type": "stream",
     "text": [
      "Matriz A : \n",
      " [[ 0.1 -1. ]\n",
      " [ 0.3 -1. ]]\n",
      "Vector b : \n",
      " [[-200.]\n",
      " [ -20.]]\n"
     ]
    }
   ],
   "source": [
    "# Definimos la matriz A y el vector b\n",
    "A = np.array([[0.10, -1.],[0.30,-1.]] )\n",
    "b = np.array([[-200.0,-20.0]]).T\n",
    "\n",
    "print(\"Matriz A : \\n\",A)\n",
    "print(\"Vector b : \\n\", b)"
   ]
  },
  {
   "cell_type": "code",
   "execution_count": 10,
   "id": "6de506ad-f331-439b-8cfb-f63adad122d0",
   "metadata": {},
   "outputs": [
    {
     "name": "stdout",
     "output_type": "stream",
     "text": [
      "\u001b[32m¡Tu resultado es correcto!\n"
     ]
    }
   ],
   "source": [
    "# Verifica que la matriz es correcta.\n",
    "e.verifica(A,3)"
   ]
  },
  {
   "cell_type": "code",
   "execution_count": 11,
   "id": "d7dae2ab-9e20-4344-a13d-3375f22bd1ce",
   "metadata": {},
   "outputs": [
    {
     "name": "stdout",
     "output_type": "stream",
     "text": [
      "\u001b[32m¡Tu resultado es correcto!\n"
     ]
    }
   ],
   "source": [
    "# Verifica que el vector b es correcto.\n",
    "e.verifica(b,4)"
   ]
  },
  {
   "cell_type": "markdown",
   "id": "9aa5f08a-8d9e-4bcc-9570-08dee32848bc",
   "metadata": {},
   "source": [
    "---\n",
    "<font color=\"Navy\">2. Investigue como usar la función <a href=\"https://numpy.org/doc/stable/reference/generated/numpy.linalg.solve.html\">numpy.linalg.solve()</a> para resolver el sistema de ecuaciones. Resuelva el sistema y guarde la solución en el vector `xsol`.</font>\n",
    "\n",
    "---"
   ]
  },
  {
   "cell_type": "code",
   "execution_count": 12,
   "id": "3a179f8b-f365-4090-ad53-8d7e202b0e9c",
   "metadata": {},
   "outputs": [
    {
     "name": "stdout",
     "output_type": "stream",
     "text": [
      "Solución del sistema: \n",
      " [[900.]\n",
      " [290.]]\n"
     ]
    }
   ],
   "source": [
    "# Resolvemos el sistema de ecuaciones lineal\n",
    "xsol = np.linalg.solve(A,b) \n",
    "\n",
    "print(\"Solución del sistema: \\n\", xsol)"
   ]
  },
  {
   "cell_type": "code",
   "execution_count": 13,
   "id": "2d61b733-8804-42bb-afcd-4114a2de63ea",
   "metadata": {},
   "outputs": [
    {
     "name": "stdout",
     "output_type": "stream",
     "text": [
      "\u001b[32m¡Tu resultado es correcto!\n"
     ]
    }
   ],
   "source": [
    "# Verifica que el vector b es correcto.\n",
    "e.verifica(xsol,5)"
   ]
  },
  {
   "cell_type": "markdown",
   "id": "8807862c-16e1-4245-95d1-bde3f6390686",
   "metadata": {},
   "source": [
    "---\n",
    "<font color=\"Navy\">3. Verifique que la solución es correcta multiplicando la matriz `A` por el vector solución `xsol`. El resultado debería ser el vector `b`.</font> **Hint**<font color=\"Navy\">: utilice la función</font> <a href=\"https://numpy.org/doc/stable/reference/generated/numpy.dot.html\">numpy.dot()</a>.\n",
    "\n",
    "---"
   ]
  },
  {
   "cell_type": "code",
   "execution_count": 14,
   "id": "77cb588c-56fe-4470-91e2-f114fedbc678",
   "metadata": {},
   "outputs": [
    {
     "name": "stdout",
     "output_type": "stream",
     "text": [
      "[[-200.]\n",
      " [ -20.]]\n"
     ]
    }
   ],
   "source": [
    "rhs = np.dot(A, xsol)\n",
    "print(rhs)"
   ]
  },
  {
   "cell_type": "code",
   "execution_count": 15,
   "id": "f4fe233d-d68b-4f36-8a6f-abb78fb6f5d9",
   "metadata": {},
   "outputs": [
    {
     "name": "stdout",
     "output_type": "stream",
     "text": [
      "\u001b[39m--------------------------------------------------------------------------------\n",
      "\u001b[31mCuidado: Ocurrió un error en tus cálculos: \n",
      " Lists differ: [-200.00000000000003, -20.0] != [-200, -20]\n",
      "\n",
      "First differing element 0:\n",
      "-200.00000000000003\n",
      "-200\n",
      "\n",
      "- [-200.00000000000003, -20.0]\n",
      "+ [-200, -20]\n",
      "\u001b[39m--------------------------------------------------------------------------------\n"
     ]
    }
   ],
   "source": [
    "# Verifica que el vector b es correcto.\n",
    "e.verifica(rhs,4)"
   ]
  },
  {
   "cell_type": "markdown",
   "id": "c7b99cc3-dd05-4444-b9f9-11a2286c376d",
   "metadata": {},
   "source": [
    "**¿Qué sucedió en la verificación del resultado de rhs?**"
   ]
  },
  {
   "cell_type": "markdown",
   "id": "0622ef82-1b1e-45ee-bbe3-fc93bc2f5c37",
   "metadata": {},
   "source": [
    "<font color=\"Navy\">4. Si todo se hizo correctamente, el siguiente código debe graficar las rectas de las dos compañías y en el punto donde se cruzan</font>"
   ]
  },
  {
   "cell_type": "code",
   "execution_count": 16,
   "id": "2b47bd51-0744-4840-b278-9de05c846f00",
   "metadata": {},
   "outputs": [
    {
     "data": {
      "image/png": "[encoded data removed]",
      "text/plain": [
       "<Figure size 512x384 with 1 Axes>"
      ]
     },
     "metadata": {},
     "output_type": "display_data"
    }
   ],
   "source": [
    "# Gráfica de las líneas de cada compañía\n",
    "plt.plot(x, PA, lw=3,label = 'A')\n",
    "plt.plot(x, PB, lw=3,label = 'B')\n",
    "\n",
    "# Punto de cruce de las líneas rectas\n",
    "plt.scatter(xsol[0], xsol[1], fc = 'C3', ec ='k', s = 100, alpha=0.85, zorder=5, label='Solución')\n",
    "\n",
    "# Decoración de la gráfica\n",
    "plt.xlabel('MB')\n",
    "plt.ylabel('Precio final')\n",
    "plt.title('Cruce de las rectas: ({:4.0f} MB, {:4.0f} pesos)'.format(xsol[0][0], xsol[1][0]))\n",
    "plt.vlines(xsol[0][0], 0, xsol[1][0], ls='--', lw=1.0, color='gray')\n",
    "plt.hlines(xsol[1][0], 0, xsol[0][0], ls='--', lw=1.0, color='gray')\n",
    "\n",
    "plt.grid(True)\n",
    "plt.legend()\n",
    "plt.show()"
   ]
  },
  {
   "cell_type": "markdown",
   "id": "31e20080-7466-4325-8436-403cf55cee08",
   "metadata": {},
   "source": [
    "### Forma cuadrática, Eigenvalores y Eigenvectores\n"
   ]
  },
  {
   "cell_type": "code",
   "execution_count": 1,
   "id": "0caa0576-ad09-47fa-8b07-b0e66caa6e0e",
   "metadata": {},
   "outputs": [
    {
     "data": {
      "application/vnd.jupyter.widget-view+json": {
       "model_id": "eeedcb31573b460abcf773ee37ccd8b1",
       "version_major": 2,
       "version_minor": 0
      },
      "text/plain": [
       "interactive(children=(Dropdown(description='Sistema lineal', options=('Indefinido', 'Positivo Definido', 'Inde…"
      ]
     },
     "metadata": {},
     "output_type": "display_data"
    }
   ],
   "source": [
    "%run \"./zLinSysAnalysis_interactive.ipynb\""
   ]
  },
  {
   "cell_type": "markdown",
   "id": "7c6a3676-f422-4f6b-ae7e-23688891adac",
   "metadata": {},
   "source": [
    "<a name='2'></a>\n",
    "## Sistemas de ecuaciones lineales en general\n",
    "\n",
    "El sistema lineal (2) se puede escribir como sigue:\n",
    "\n",
    "$$\n",
    "\\begin{array}{ccc}\n",
    "a_{00} x_0 + a_{01} x_1 & = &b_0 \\\\\n",
    "a_{01} x_0 + a_{11} x_1 & = &b_1\n",
    "\\end{array} \\Longrightarrow\n",
    "\\underbrace{\n",
    "\\left[\n",
    "\\begin{array}{cccc}\n",
    "a_{00} & a_{01} \\\\\n",
    "a_{01} & a_{11}\n",
    "\\end{array} \\right]}_{\\underline{\\underline{A}}}\n",
    "\\underbrace{\n",
    "\\left[\n",
    "\\begin{array}{cccc}\n",
    "x_{0} \\\\\n",
    "x_{1} \n",
    "\\end{array} \\right]}_{\\underline{{x}}}\n",
    "=\n",
    "\\underbrace{\n",
    "\\left[\n",
    "\\begin{array}{c}\n",
    "b_0 \\\\ b_1\n",
    "\\end{array}\n",
    "\\right]}_{\\underline{{b}}}\n",
    "$$\n",
    "\n",
    "En general un sistema de ecuaciones lineales puede contener $n$ ecuaciones con $n$ incógnitas y se ve como sigue:\n",
    "\n",
    "$$\n",
    "\\underline{\\underline{A}} \\cdot \\underline{x} = \\underline{b} \\Longrightarrow\n",
    "\\left[\n",
    "\\begin{array}{ccccc}\n",
    "a_{00} & a_{01} & a_{02} & \\dots & a_{0n} \\\\\n",
    "a_{10} & a_{11} & a_{12} & \\dots & a_{1n} \\\\\n",
    "\\vdots & \\vdots & \\vdots & \\ddots & \\vdots \\\\\n",
    "a_{n1} & a_{n1} & a_{n2} & \\dots & a_{nn}\n",
    "\\end{array} \\right] \n",
    "\\left[\n",
    "\\begin{array}{cccc}\n",
    "x_{0} \\\\ x_{1} \\\\ \\vdots \\\\ x_{n}\n",
    "\\end{array} \\right] \n",
    "=\n",
    "\\left[\n",
    "\\begin{array}{c}\n",
    "b_0 \\\\ b_1 \\\\ \\vdots \\\\ b_{n}\n",
    "\\end{array}\n",
    "\\right]\n",
    "$$ "
   ]
  },
  {
   "cell_type": "markdown",
   "id": "cdbf0e35-107c-401e-adf9-af7680404143",
   "metadata": {},
   "source": [
    "<a name='3-1'></a>\n",
    "### Métodos estacionarios para solución de sistemas lineales.\n",
    "\n",
    "Existen diferentes métodos de solución de los sistemas de ecuaciones lineales cada uno con ventajas y desventajas. En general se puede hablar de métodos estacionario (Jacobi, Gauss-Seidel, SOR, etc.) y métodos no estacionarios (GGM, BICGSTAB, GMRES, etc.). Véase el siguiente libro para revisar con mayor detalle la descripción de esos métodos."
   ]
  },
  {
   "cell_type": "markdown",
   "id": "4a689d8c-bf9e-4934-99b9-09cc42f410d8",
   "metadata": {},
   "source": [
    "<a name='3'></a>\n",
    "## Transferencia de calor\n",
    "Los sistemas de ecuaciones lineales aparecen en muchas aplicaciones. Por ejemplo, para estudiar la transferencia de calor en una placa cuadrada de metal, se puede resolver numéricamente una ecuación diferencial parcial (vea como aquí). La solución numérica se encuentra resolviendo un sistema lineal como el siguiente:\n",
    "\n",
    "<center>\n",
    "<img src=\"../../recursos/figuras/calor02.png\"  width='500px'/>\n",
    "</center>\n",
    "    \n",
    "Estos sistemas suelen ser muy grandes y para resolverlos se requiere de muchas operaciones, lo que implica también mucho tiempo de cómputo."
   ]
  },
  {
   "cell_type": "markdown",
   "id": "d7d2d5fd-d61c-4000-89ae-57053c9a6eb3",
   "metadata": {},
   "source": [
    "<a name='ej-3'></a>\n",
    "#### **<font color=\"SlateBlue\">Ejercicio 3. Evaluación de métodos.</font>**\n",
    "<font color=\"SlateBlue\">El objetivo de este ejercicio es comparar algunos métodos estacionarios de solución de sistemas de ecuaciones lineales para resolver un problema de transferencia de calor.</font>\n",
    "- <font color=\"Navy\">En el siguiente interactivo seleccione un método y ejecute presionando `Run Interact`.</font> \n",
    "- <font color=\"Navy\">Observe el comportamiento de cada método, tome nota del tiempo de CPU, el error y el número de iteraciones. Repita cambiando el tamaño de la malla `N`.</font>\n",
    "- <font color=\"Navy\">Posteriormente responda las preguntas en el *quiz* **Evaluación de los métodos: Jacobi, Gauss-Seidel, SOR** en Moodle.</font> "
   ]
  },
  {
   "cell_type": "code",
   "execution_count": 2,
   "id": "61c73d67-b251-4811-a39c-812bf67acc43",
   "metadata": {},
   "outputs": [
    {
     "data": {
      "application/vnd.jupyter.widget-view+json": {
       "model_id": "488c2f191b5241b7acf8e734791c1dc2",
       "version_major": 2,
       "version_minor": 0
      },
      "text/plain": [
       "interactive(children=(Dropdown(description='Método', options=('Jacobi', 'Gauss-Seidel', 'SOR'), value='Jacobi'…"
      ]
     },
     "metadata": {},
     "output_type": "display_data"
    }
   ],
   "source": [
    "%run \"./zCondCalor_interactive.ipynb\""
   ]
  }
 ],
 "metadata": {
  "kernelspec": {
   "display_name": "Python 3 (ipykernel)",
   "language": "python",
   "name": "python3"
  },
  "language_info": {
   "codemirror_mode": {
    "name": "ipython",
    "version": 3
   },
   "file_extension": ".py",
   "mimetype": "text/x-python",
   "name": "python",
   "nbconvert_exporter": "python",
   "pygments_lexer": "ipython3",
   "version": "3.9.7"
  }
 },
 "nbformat": 4,
 "nbformat_minor": 5
}
