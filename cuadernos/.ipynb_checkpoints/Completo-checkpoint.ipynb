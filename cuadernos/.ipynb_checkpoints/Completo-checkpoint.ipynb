{
 "cells": [
  {
   "cell_type": "code",
   "execution_count": 1,
   "id": "f278ff6b-1cc9-43de-9bcb-f098f481a950",
   "metadata": {},
   "outputs": [],
   "source": [
    "import numpy as np\n",
    "import matplotlib.pyplot as plt"
   ]
  },
  {
   "cell_type": "markdown",
   "id": "3b87eea5-b73a-454f-bb9f-103c0446b488",
   "metadata": {},
   "source": [
    "$\n",
    "\\begin{array}{ccc}\n",
    "y_{b} & = &- \\dfrac{3}{2}t + 1\\\\\n",
    "y_{n} & = & - \\dfrac{1}{3}t - \\dfrac{4}{3}\n",
    "\\end{array}\n",
    "$"
   ]
  },
  {
   "cell_type": "code",
   "execution_count": 6,
   "id": "4048f090-9ac7-4e55-bf55-eb4f5b8ba34c",
   "metadata": {},
   "outputs": [
    {
     "data": {
      "image/png": "[encoded data removed]",
      "text/plain": [
       "<Figure size 432x288 with 1 Axes>"
      ]
     },
     "metadata": {
      "needs_background": "light"
     },
     "output_type": "display_data"
    }
   ],
   "source": [
    "t = np.linspace(-1,4,10)\n",
    "yb = -3.0/2.0 * x + 1.0\n",
    "yn = -1.0/3.0 * x + -4.0/3.0\n",
    "\n",
    "plt.plot(t, yb, lw=3,label = '$y_b = -\\dfrac{3}{2} t + 1$')\n",
    "plt.plot(t, yn, lw=3,label = '$y_n = -\\dfrac{1}{3} t - \\dfrac{4}{3}$')\n",
    "plt.xlabel('$t$')\n",
    "plt.ylabel('$y$')\n",
    "plt.grid()\n",
    "plt.legend()\n",
    "plt.show()"
   ]
  },
  {
   "cell_type": "markdown",
   "id": "c0944e5f-ce80-4c8c-a59d-33fe50a0fe71",
   "metadata": {},
   "source": [
    "Cruce de dos rectas:<br>\n",
    "\n",
    "$\n",
    "\\begin{array}{ccc}\n",
    "3x_0 + 2x_1 & = &2 \\\\\n",
    "2x_0 + 6x_1 & = &-8\n",
    "\\end{array}\n",
    "$\n",
    "\n",
    "En forma de sistema lineal:\n",
    "\n",
    "$\n",
    "\\left[\n",
    "\\begin{array}{cc}\n",
    "3 & 2 \\\\\n",
    "2 & 6\n",
    "\\end{array} \\right]\n",
    "$\n",
    "$\n",
    "\\left[\n",
    "\\begin{array}{c}\n",
    "x_{0} \\\\\n",
    "x_{1}\n",
    "\\end{array} \\right] =\n",
    "$\n",
    "$\n",
    "\\left[\n",
    "\\begin{array}{c}\n",
    "2 \\\\ \n",
    "-8\n",
    "\\end{array} \\right]\n",
    "$\n",
    "\n",
    "Podemos calcular el cruce de las rectas resolviendo el sistema lineal:"
   ]
  },
  {
   "cell_type": "code",
   "execution_count": null,
   "id": "47e26d20-cec9-423f-acf1-54247d77b8b9",
   "metadata": {},
   "outputs": [],
   "source": [
    "A = np.array([[3, 2],[2,6]] )\n",
    "b = np.array([[2,-8]]).T\n",
    "print(\"Matriz A : \\n\",A)\n",
    "print(\"Vector b : \\n\", b)\n",
    "sol = np.linalg.solve(A,b) # Función del módulo linalg para resolver el sistema\n",
    "print(\"Solución del sistema: \\n\", sol)"
   ]
  },
  {
   "cell_type": "markdown",
   "id": "457b1547-7176-4fd6-85c4-3b0387662969",
   "metadata": {},
   "source": [
    "**Graficamos las rectas y la solución:**\n",
    "\n",
    "Las ecuaciones de las rectas se pueden escribir como:\n",
    "\n",
    "$\n",
    "\\begin{array}{ccc}\n",
    "\\dfrac{3}{2}x_0 + x_1 & = & \\dfrac{2}{2} \\\\\n",
    "\\dfrac{2}{6}x_0 + x_1 & = & -\\dfrac{8}{6}\n",
    "\\end{array} \\Longrightarrow\n",
    "\\begin{array}{ccc}\n",
    "y_0 = m_0 x + b_0 \\\\\n",
    "y_1 = m_1 x + b_1\n",
    "\\end{array} \\text{ donde }\n",
    "\\begin{array}{ccc}\n",
    "m_0 = -\\dfrac{3}{2} & b_0 = 1 \\\\\n",
    "m_1 = -\\dfrac{2}{6} & b_1 = -\\dfrac{8}{6}\n",
    "\\end{array}\n",
    "$"
   ]
  },
  {
   "cell_type": "code",
   "execution_count": null,
   "id": "cf15da5c-fda0-4690-97c1-383fc173f0a4",
   "metadata": {},
   "outputs": [],
   "source": [
    "def graficaRectas(x, y0, y1, sol):\n",
    "    plt.plot(x,y0,lw=3,label = '$3x_0+2x_1=2$')\n",
    "    plt.plot(x,y1,lw=3,label = '$2x_0+6x_1=-8$')\n",
    "    plt.scatter(sol[0], sol[1], c='red', s = 75, alpha=0.75, zorder=5, label='Solución')\n",
    "    plt.xlabel('$x_0$')\n",
    "    plt.ylabel('$x_1$')\n",
    "    plt.title('Cruce de rectas')\n",
    "    plt.grid()\n",
    "    plt.legend()"
   ]
  },
  {
   "cell_type": "code",
   "execution_count": null,
   "id": "68d81785-3740-4116-9f40-51aedef25139",
   "metadata": {},
   "outputs": [],
   "source": [
    "m0 = -3/2\n",
    "b0 = 1\n",
    "m1 = -2/6\n",
    "b1 = -8/6\n",
    "x = np.linspace(-1,4,10)\n",
    "y0 = m0 * x + b0\n",
    "y1 = m1 * x + b1 \n",
    "\n",
    "graficaRectas(x, y0, y1, sol)"
   ]
  },
  {
   "cell_type": "code",
   "execution_count": null,
   "id": "8a0aadad-ffe3-4a13-8d85-9e66306839ca",
   "metadata": {},
   "outputs": [],
   "source": [
    "eigen = np.linalg.eig(A)\n",
    "eigen"
   ]
  },
  {
   "cell_type": "code",
   "execution_count": null,
   "id": "e6caeb86-6d11-43b5-bcdc-c3604acb87db",
   "metadata": {},
   "outputs": [],
   "source": [
    "def dibujaEigen(eigen, sol):\n",
    "    xv,yv = np.meshgrid([sol[0], sol[0]],[sol[1], sol[1]])\n",
    "    u = np.hstack( (eigen[1][0], np.array([0, 0])) ) \n",
    "    v = np.hstack( (eigen[1][1], np.array([0, 0])) )   \n",
    "    vec = plt.quiver(xv,yv,u,v,scale=10, zorder=5)"
   ]
  },
  {
   "cell_type": "code",
   "execution_count": null,
   "id": "2ecd3c78-1335-4a67-978e-2306ea2c1f0c",
   "metadata": {},
   "outputs": [],
   "source": [
    "dibujaEigen(eigen, sol)\n",
    "graficaRectas(x, y0, y1, sol)"
   ]
  },
  {
   "cell_type": "markdown",
   "id": "39b1e3ce-7eb0-491a-8703-378437c2b360",
   "metadata": {},
   "source": [
    "### Forma cuadrática\n",
    "\n",
    "$ f(x) = \\dfrac{1}{2} \\mathbf{x}^T A \\mathbf{x} - \\mathbf{x}^T \\mathbf{b} + c $\n",
    "\n",
    "$\n",
    "A =\n",
    "\\left[\n",
    "\\begin{array}{cc}\n",
    "3 & 2 \\\\\n",
    "2 & 6\n",
    "\\end{array} \\right],\n",
    "x =\n",
    "\\left[\n",
    "\\begin{array}{c}\n",
    "x_{0} \\\\\n",
    "x_{1}\n",
    "\\end{array} \\right],\n",
    "b =\n",
    "\\left[\n",
    "\\begin{array}{c}\n",
    "2\\\\ -8\n",
    "\\end{array}\n",
    "\\right], \n",
    "c =\n",
    "\\left[\n",
    "\\begin{array}{c}\n",
    "0\\\\ 0\n",
    "\\end{array}\n",
    "\\right], \n",
    "$\n",
    "\n",
    "$ f^\\prime(x) = \\dfrac{1}{2} A^T \\mathbf{x} + \\dfrac{1}{2} A \\mathbf{x} - \\mathbf{b} $\n",
    "\n",
    "- Cuando $A$ es simétrica: $ f^\\prime(x) = A \\mathbf{x} - \\mathbf{b} $\n",
    "- Entonces un punto crítico de $f(x)$ se obtiene cuando $ f^\\prime(x) = A \\mathbf{x} - \\mathbf{b} = 0$, es decir cuando $A \\mathbf{x} = \\mathbf{b}$\n"
   ]
  },
  {
   "cell_type": "code",
   "execution_count": null,
   "id": "9cc78ea4-a8fc-45e1-bd3d-aedf2d031077",
   "metadata": {},
   "outputs": [],
   "source": [
    "from mpl_toolkits.mplot3d import Axes3D\n",
    "\n",
    "def dibujaSurf(A,b):\n",
    "    def f(A,b,x,c):\n",
    "        return 0.5 * (x.T * A * x) - b.T * x + c\n",
    "\n",
    "    size_grid = 30\n",
    "    x1 = np.linspace(-3,6,size_grid)\n",
    "    y1 = np.linspace(-6,3,size_grid)\n",
    "\n",
    "    xg,yg = np.meshgrid(x1,y1)\n",
    "    z = np.zeros((size_grid, size_grid))\n",
    "\n",
    "    for i in range(size_grid):\n",
    "        for j in range(size_grid):\n",
    "            x = np.matrix([[xg[i,j]],[yg[i,j]]])\n",
    "            z[i,j] = f(A,b,x,0)\n",
    "            \n",
    "    fig = plt.figure()\n",
    "    surf = fig.gca(projection='3d')\n",
    "    surf.plot_surface(xg,yg,z,rstride=1,cstride=1, alpha=1.0, cmap='viridis')\n",
    "    surf.view_init(15, 130)\n",
    "    surf.set_xlabel('$x_0$')\n",
    "    surf.set_ylabel('$x_1$')\n",
    "    surf.set_zlabel('$f$')\n",
    "    return xg, yg, z"
   ]
  },
  {
   "cell_type": "code",
   "execution_count": null,
   "id": "5781a9e6-f447-4e03-aa54-b4ba3721f1ad",
   "metadata": {},
   "outputs": [],
   "source": [
    "xg,yg,z = dibujaSurf(A,b)"
   ]
  },
  {
   "cell_type": "code",
   "execution_count": null,
   "id": "d11bd36d-5d0d-4971-890b-9a9e46bd3310",
   "metadata": {},
   "outputs": [],
   "source": [
    "dibujaEigen(eigen, sol)\n",
    "graficaRectas(x, y0, y1, sol)\n",
    "cont = plt.contour(xg,yg,z,30,cmap='binary')"
   ]
  },
  {
   "cell_type": "markdown",
   "id": "42b93ba0-f03b-4caa-9ecd-ca97f46e2440",
   "metadata": {},
   "source": [
    "**Algoritmo del descenso del gradiente** <br>\n",
    "$\n",
    "\\begin{array}{l}\n",
    "\\text{Input} : \\mathbf{x}_0, tol \\\\\n",
    "\\mathbf{r}_0 = \\mathbf{b}-A\\mathbf{x}_0 \\\\\n",
    "k = 0 \\\\\n",
    "\\text{WHILE}(\\mathbf{r}_k > tol) \\\\\n",
    "\\qquad \\mathbf{r}_k \\leftarrow \\mathbf{b}-A\\mathbf{x}_k \\\\\n",
    "\\qquad \\alpha_k \\leftarrow \\dfrac{\\mathbf{r}_k^T\\mathbf{r}_k}{\\mathbf{r}_k^T A \\mathbf{r}_k} \\\\\n",
    "\\qquad \\mathbf{x}_{k+1} \\leftarrow \\mathbf{x}_k + \\alpha_k \\mathbf{r}_k \\\\\n",
    "\\qquad k \\leftarrow k + 1 \\\\\n",
    "\\text{ENDWHILE}\n",
    "\\end{array}\n",
    "$"
   ]
  },
  {
   "cell_type": "code",
   "execution_count": null,
   "id": "9e7aabe3-6fd9-46cf-8c63-9f5e537f4dba",
   "metadata": {},
   "outputs": [],
   "source": [
    "def steepest(A,b,x,tol,kmax):\n",
    "    print('1')\n",
    "    steps = [[x[0,0], x[1,0]]]\n",
    "    r = b - A @ x\n",
    "    res = np.linalg.norm(r)\n",
    "    k = 0\n",
    "    while(res > tol and k < kmax):\n",
    "        alpha = r.T @ r / (r.T @ A @ r)\n",
    "        x = x + r * alpha\n",
    "        steps.append([x[0,0],x[1,0]])\n",
    "        r = b - A @ x\n",
    "        res = np.linalg.norm(r)\n",
    "        k += 1\n",
    "        print(k, res)\n",
    "    return x, steps"
   ]
  },
  {
   "cell_type": "code",
   "execution_count": null,
   "id": "e6fd72e8-8fc6-4f4b-bcec-fc91a867c2ca",
   "metadata": {},
   "outputs": [],
   "source": [
    "def steepest2(A,b,x,tol,kmax):\n",
    "    steps = [[x[0,0], x[1,0]]]\n",
    "    r = b - np.dot(A, x)\n",
    "    res = np.linalg.norm(r)\n",
    "    k = 0\n",
    "    while(res > tol and k < kmax):\n",
    "        alpha = np.dot(r.T, r) / np.dot(np.dot(r.T, A), r)\n",
    "        x = x + r * alpha\n",
    "        steps.append([x[0,0],x[1,0]])\n",
    "        r = b - np.dot(A, x)\n",
    "        res = np.linalg.norm(r)\n",
    "        k += 1\n",
    "        print(k, res)\n",
    "    return x, steps"
   ]
  },
  {
   "cell_type": "code",
   "execution_count": null,
   "id": "ff2c0225-4abc-44e8-8df2-01d5f4e231cd",
   "metadata": {},
   "outputs": [],
   "source": [
    "xini = np.array([-2.0,-2.0])\n",
    "tol = 0.001\n",
    "kmax = 20\n",
    "\n",
    "xs, pasos = steepest(A,b[:,np.newaxis],xini[:,np.newaxis],tol,kmax)"
   ]
  },
  {
   "cell_type": "code",
   "execution_count": null,
   "id": "71eeb9d6-8b1d-4b24-a596-1025473792bb",
   "metadata": {},
   "outputs": [],
   "source": [
    "def dibujaPasos(xi, sol, pasos):\n",
    "    pasos = np.matrix(pasos)\n",
    "    plt.plot(pasos[:,0],pasos[:,1],'-')\n",
    "    plt.scatter(xi[0], xi[1], c='yellow', s = 75, alpha=0.75, zorder=5, label='Solución')\n",
    "    plt.scatter(sol[0], sol[1], c='red', s = 75, alpha=0.75, zorder=5, label='Solución')"
   ]
  },
  {
   "cell_type": "code",
   "execution_count": null,
   "id": "f880c5a9-fd30-43f7-a234-f4abe6c275ce",
   "metadata": {},
   "outputs": [],
   "source": [
    "dibujaEigen(eigen, sol)\n",
    "graficaRectas(x, y0, y1, sol)\n",
    "cont = plt.contour(xg,yg,z,30,cmap='binary')\n",
    "dibujaPasos(xini, sol, pasos)"
   ]
  },
  {
   "cell_type": "code",
   "execution_count": null,
   "id": "b6271975-07bf-4e93-b14a-a60f39efeed6",
   "metadata": {},
   "outputs": [],
   "source": [
    "def conjugateGradient(A,b,x0,tol,kmax):\n",
    "    r = b - A * x0\n",
    "    d = r\n",
    "    rk_norm = r.T * r\n",
    "    res = np.linalg.norm(rk_norm)\n",
    "    res_array = np.zeros(kmax)\n",
    "    k = 0\n",
    "#    print(k, res)\n",
    "    while(res > tol and k < kmax):\n",
    "        alpha = float(rk_norm) / float(d.T * (A * d))\n",
    "        x0 = x0 + alpha * d\n",
    "#        r = b - A * x\n",
    "        r = r - alpha * A * d\n",
    "        res = np.linalg.norm(r)\n",
    "        res_array[k] = res\n",
    "        rk_old = rk_norm\n",
    "        rk_norm = r.T * r\n",
    "        beta = float(rk_norm) / float(rk_old)\n",
    "        d = r + beta * d\n",
    "        k += 1\n",
    "#        print(k, res)\n",
    "    return x0, res, k, res_array"
   ]
  },
  {
   "cell_type": "code",
   "execution_count": null,
   "id": "15421b48-b7f2-4967-b54e-a1728455fcb0",
   "metadata": {},
   "outputs": [],
   "source": [
    "xs, pasos = conjugateGradient(A,b[:,np.newaxis],xini[:,np.newaxis],tol,kmax)"
   ]
  },
  {
   "cell_type": "code",
   "execution_count": null,
   "id": "3cc1292d-f191-4f3c-91ab-3063e8bc14fe",
   "metadata": {},
   "outputs": [],
   "source": [
    "xs = np.copy(xini)\n",
    "pasos = [(-2, -2.0)]\n",
    "i = 0\n",
    "imax = 10\n",
    "eps = 0.01\n",
    "r = b - A @ xs\n",
    "print('R', r)\n",
    "d = r\n",
    "deltanew = r.T @ r\n",
    "#print(deltanew)\n",
    "delta0 = deltanew\n",
    "while i < imax and deltanew > eps**2 * delta0:\n",
    "    alpha = float(deltanew / float(d.T * (A * d)))\n",
    "    xs = xs + alpha * d\n",
    "    pasos.append((xs[0, 0], xs[1, 0]))\n",
    "    r = b - A * xs\n",
    "    res = np.linalg.norm(r)\n",
    "    deltaold = deltanew\n",
    "    deltanew = r.T * r\n",
    "    #beta = -float((r.T * A * d) / float(d.T * A * d))\n",
    "    beta = float(deltanew / float(deltaold))\n",
    "    d = r + beta * d\n",
    "    i += 1\n",
    "    print(i, res)"
   ]
  },
  {
   "cell_type": "code",
   "execution_count": null,
   "id": "ad5dda00-eb55-419e-b958-58622daf033e",
   "metadata": {},
   "outputs": [],
   "source": []
  }
 ],
 "metadata": {
  "kernelspec": {
   "display_name": "Python 3",
   "language": "python",
   "name": "python3"
  },
  "language_info": {
   "codemirror_mode": {
    "name": "ipython",
    "version": 3
   },
   "file_extension": ".py",
   "mimetype": "text/x-python",
   "name": "python",
   "nbconvert_exporter": "python",
   "pygments_lexer": "ipython3",
   "version": "3.8.8"
  }
 },
 "nbformat": 4,
 "nbformat_minor": 5
}
