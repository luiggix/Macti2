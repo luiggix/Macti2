{
 "cells": [
  {
   "cell_type": "markdown",
   "id": "3b87eea5-b73a-454f-bb9f-103c0446b488",
   "metadata": {},
   "source": [
    "# Solución de sistemas de ecuaciones lineales\n",
    "---\n",
    "Dos compañías de telefonía compiten por ganar clientes. En la tabla que sigue se muestra el costo de la renta y el costo por Megabyte (MB) usado en redes sociales.\n",
    "\n",
    "|    | Renta mensual | Costo por MB |\n",
    "|:--:|:----: | :----------: |\n",
    "| A  | $200$ | $0.10$       |\n",
    "| B  | $20$  | $0.35$       |\n",
    "\n",
    "¿Cómo podríamos decidir cuál de estas companías conviene contratar?\n",
    "\n",
    "---"
   ]
  },
  {
   "cell_type": "markdown",
   "id": "683493d4-8758-4a03-a0df-a17fa798192e",
   "metadata": {},
   "source": [
    "Para responder a esta pregunta podemos hacer un análisis muy simple:\n",
    "\n",
    "1. La compañía A tiene un precio fijo de 200 pesos mensuales que es 10 veces mayor al precio que cobra la compañía B (20 pesos).\n",
    "2. La compañía A cobra 0.35 pesos por cada MB, que es 3.5 veces mayor al precio por MB de la compañía B.\n",
    "\n",
    "El precio final mensual de cada compañía depende de cuantos MB se usen. Podemos escribir la forma en que crece el precio de cada compañía en la forma siguiente:\n",
    "\n",
    "$\n",
    "\\begin{array}{ccc}\n",
    "P_A & = & 0.10 x + 200 \\tag{1}\\\\\n",
    "P_B & = & 0.35 x + 20\n",
    "\\end{array}\n",
    "$\n",
    "\n",
    "donde $x$ representa el número de MB usados durante un mes. \n",
    "\n",
    "Usando las fórmulas anteriores podemos hacer una gráfica como sigue:"
   ]
  },
  {
   "cell_type": "code",
   "execution_count": 47,
   "id": "f278ff6b-1cc9-43de-9bcb-f098f481a950",
   "metadata": {},
   "outputs": [],
   "source": [
    "import numpy as np\n",
    "import matplotlib.pyplot as plt"
   ]
  },
  {
   "cell_type": "code",
   "execution_count": 48,
   "id": "4048f090-9ac7-4e55-bf55-eb4f5b8ba34c",
   "metadata": {},
   "outputs": [
    {
     "data": {
      "image/png": "[encoded data removed]",
      "text/plain": [
       "<Figure size 432x288 with 1 Axes>"
      ]
     },
     "metadata": {
      "needs_background": "light"
     },
     "output_type": "display_data"
    }
   ],
   "source": [
    "# Megabytes desde 0 hasta 1500 (1.5 GB)\n",
    "x = np.linspace(0,1500,10)\n",
    "\n",
    "# Fórmulas de cada compañía\n",
    "PA = 0.10 * x + 200\n",
    "PB = 0.35 * x + 20\n",
    "\n",
    "# Gráfica de ambos casos\n",
    "plt.plot(x, PA, lw=3,label = '$A$')\n",
    "plt.plot(x, PB, lw=3,label = '$B$')\n",
    "\n",
    "# Decoración de la gráfica\n",
    "plt.xlabel('MB')\n",
    "plt.ylabel('Precio final')\n",
    "plt.grid()\n",
    "plt.legend()\n",
    "plt.show()"
   ]
  },
  {
   "cell_type": "markdown",
   "id": "6ebff79d-06e6-4678-bcf4-494ad6f59c28",
   "metadata": {},
   "source": [
    "**¿Qué observamos en la figura anterior?**\n",
    "\n",
    "Para decidir cuál de los dos compañías elegir, debemos saber cuantos MB gastamos al mes y con esa información mirar en la figura anterior y determinar el momento en que la línea de la compañía B supera a la línea de la compañía A.\n",
    "\n",
    "**¿Será posible determinar con precisión el punto de cruce de las rectas?**\n"
   ]
  },
  {
   "cell_type": "markdown",
   "id": "c0944e5f-ce80-4c8c-a59d-33fe50a0fe71",
   "metadata": {},
   "source": [
    "Las ecuaciones $(1)$ tienen la forma típica de una recta: \n",
    "\n",
    "$$\n",
    "y = m x + b\n",
    "$$\n",
    "\n",
    "Para la compañía A tenemos que $m = 0.10$ y $b = 200$, mientras que para la compañía B tenemos $m = 0.35$ y $b = 20$.\n",
    "\n",
    "\n",
    "Vamos a escribir las ecuaciones de las líneas rectas en forma de un sistema de ecuaciones lineales como sigue:\n",
    "\n",
    "$$\n",
    "\\begin{array}{ccc}\n",
    "y & = & 0.10 x + 200 \\\\\n",
    "y & = & 0.35 x + 20\n",
    "\\end{array} \\Longrightarrow\n",
    "\\underbrace{\n",
    "\\left[\n",
    "\\begin{array}{cc}\n",
    "0.10 & -1 \\\\\n",
    "0.35 & -1\n",
    "\\end{array} \\right]}_{\\mathbf{A}}\n",
    "\\underbrace{\n",
    "\\left[\n",
    "\\begin{array}{c}\n",
    "x_{0} \\\\\n",
    "x_{1}\n",
    "\\end{array} \\right]}_{\\mathbf{x}} =\n",
    "\\underbrace{\n",
    "\\left[\n",
    "\\begin{array}{c}\n",
    "-200 \\\\ \n",
    "-20\n",
    "\\end{array} \\right]}_{\\mathbf{b}} \\tag{2}\n",
    "$$\n",
    "\n",
    "donde hemos renombrado las variables como $x \\equiv x_0$ y $y \\equiv x_1$.\n",
    "\n",
    "**Ejercicio**: verifique que el sistema lineal (2) es correcto.\n",
    "\n",
    "Podemos calcular de manera precisa el cruce de las rectas resolviendo el sistema $\\mathbf{A x} = \\mathbf{b}$ como sigue:"
   ]
  },
  {
   "cell_type": "code",
   "execution_count": 51,
   "id": "47e26d20-cec9-423f-acf1-54247d77b8b9",
   "metadata": {},
   "outputs": [
    {
     "name": "stdout",
     "output_type": "stream",
     "text": [
      "Matriz A : \n",
      " [[ 0.1  -1.  ]\n",
      " [ 0.35 -1.  ]]\n",
      "Vector b : \n",
      " [[-200]\n",
      " [ -20]]\n",
      "Solución del sistema: \n",
      " [[720.]\n",
      " [272.]]\n"
     ]
    }
   ],
   "source": [
    "# Definimos la matriz A y el vector b\n",
    "A = np.array([[0.10, -1],[0.35,-1]] )\n",
    "b = np.array([[-200,-20]]).T\n",
    "\n",
    "print(\"Matriz A : \\n\",A)\n",
    "print(\"Vector b : \\n\", b)\n",
    "\n",
    "# Resolvemos el sistema lineal\n",
    "xsol = np.linalg.solve(A,b) \n",
    "\n",
    "print(\"Solución del sistema: \\n\", xsol)"
   ]
  },
  {
   "cell_type": "markdown",
   "id": "8e5b84bd-12c7-4377-838a-57e2696f643a",
   "metadata": {},
   "source": [
    "**Graficamos las rectas y la solución:**"
   ]
  },
  {
   "cell_type": "code",
   "execution_count": 55,
   "id": "4394f053-93f0-4842-9fe6-99275e9465b5",
   "metadata": {},
   "outputs": [
    {
     "data": {
      "image/png": "[encoded data removed]",
      "text/plain": [
       "<Figure size 432x288 with 1 Axes>"
      ]
     },
     "metadata": {
      "needs_background": "light"
     },
     "output_type": "display_data"
    }
   ],
   "source": [
    "# Gráfica de las líneas de cada compañía\n",
    "plt.plot(x, PA, lw=3,label = '$A$')\n",
    "plt.plot(x, PB, lw=3,label = '$B$')\n",
    "\n",
    "# Punto de cruce de las líneas rectas\n",
    "plt.scatter(xsol[0], xsol[1], c='red', s = 75, alpha=0.75, zorder=5, label='Solución')\n",
    "\n",
    "# Decoración de la gráfica\n",
    "plt.xlabel('MB')\n",
    "plt.ylabel('Precio final')\n",
    "plt.title('Cruce: {} MB, {} pesos'.format(xsol[0][0], xsol[1][0]))\n",
    "plt.grid()\n",
    "plt.legend()\n",
    "plt.show()"
   ]
  },
  {
   "cell_type": "markdown",
   "id": "457b1547-7176-4fd6-85c4-3b0387662969",
   "metadata": {},
   "source": [
    "**Graficamos las rectas y la solución:**\n",
    "\n",
    "Las ecuaciones de las rectas se pueden escribir como:\n",
    "\n",
    "$\n",
    "\\begin{array}{ccc}\n",
    "\\dfrac{3}{2}x_0 + x_1 & = & \\dfrac{2}{2} \\\\\n",
    "\\dfrac{2}{6}x_0 + x_1 & = & -\\dfrac{8}{6}\n",
    "\\end{array} \\Longrightarrow\n",
    "\\begin{array}{ccc}\n",
    "y_0 = m_0 x + b_0 \\\\\n",
    "y_1 = m_1 x + b_1\n",
    "\\end{array} \\text{ donde }\n",
    "\\begin{array}{ccc}\n",
    "m_0 = -\\dfrac{3}{2} & b_0 = 1 \\\\\n",
    "m_1 = -\\dfrac{2}{6} & b_1 = -\\dfrac{8}{6}\n",
    "\\end{array}\n",
    "$"
   ]
  },
  {
   "cell_type": "code",
   "execution_count": null,
   "id": "cf15da5c-fda0-4690-97c1-383fc173f0a4",
   "metadata": {},
   "outputs": [],
   "source": [
    "def graficaRectas(x, y0, y1, sol):\n",
    "    plt.plot(x,y0,lw=3,label = '$3x_0+2x_1=2$')\n",
    "    plt.plot(x,y1,lw=3,label = '$2x_0+6x_1=-8$')\n",
    "    plt.scatter(sol[0], sol[1], c='red', s = 75, alpha=0.75, zorder=5, label='Solución')\n",
    "    plt.xlabel('$x_0$')\n",
    "    plt.ylabel('$x_1$')\n",
    "    plt.title('Cruce de rectas')\n",
    "    plt.grid()\n",
    "    plt.legend()"
   ]
  },
  {
   "cell_type": "code",
   "execution_count": null,
   "id": "68d81785-3740-4116-9f40-51aedef25139",
   "metadata": {},
   "outputs": [],
   "source": [
    "m0 = -3/2\n",
    "b0 = 1\n",
    "m1 = -2/6\n",
    "b1 = -8/6\n",
    "x = np.linspace(-1,4,10)\n",
    "y0 = m0 * x + b0\n",
    "y1 = m1 * x + b1 \n",
    "\n",
    "graficaRectas(x, y0, y1, sol)"
   ]
  },
  {
   "cell_type": "code",
   "execution_count": null,
   "id": "8a0aadad-ffe3-4a13-8d85-9e66306839ca",
   "metadata": {},
   "outputs": [],
   "source": [
    "eigen = np.linalg.eig(A)\n",
    "eigen"
   ]
  },
  {
   "cell_type": "code",
   "execution_count": null,
   "id": "e6caeb86-6d11-43b5-bcdc-c3604acb87db",
   "metadata": {},
   "outputs": [],
   "source": [
    "def dibujaEigen(eigen, sol):\n",
    "    xv,yv = np.meshgrid([sol[0], sol[0]],[sol[1], sol[1]])\n",
    "    u = np.hstack( (eigen[1][0], np.array([0, 0])) ) \n",
    "    v = np.hstack( (eigen[1][1], np.array([0, 0])) )   \n",
    "    vec = plt.quiver(xv,yv,u,v,scale=10, zorder=5)"
   ]
  },
  {
   "cell_type": "code",
   "execution_count": null,
   "id": "2ecd3c78-1335-4a67-978e-2306ea2c1f0c",
   "metadata": {},
   "outputs": [],
   "source": [
    "dibujaEigen(eigen, sol)\n",
    "graficaRectas(x, y0, y1, sol)"
   ]
  },
  {
   "cell_type": "markdown",
   "id": "39b1e3ce-7eb0-491a-8703-378437c2b360",
   "metadata": {},
   "source": [
    "### Forma cuadrática\n",
    "\n",
    "$ f(x) = \\dfrac{1}{2} \\mathbf{x}^T A \\mathbf{x} - \\mathbf{x}^T \\mathbf{b} + c $\n",
    "\n",
    "$\n",
    "A =\n",
    "\\left[\n",
    "\\begin{array}{cc}\n",
    "3 & 2 \\\\\n",
    "2 & 6\n",
    "\\end{array} \\right],\n",
    "x =\n",
    "\\left[\n",
    "\\begin{array}{c}\n",
    "x_{0} \\\\\n",
    "x_{1}\n",
    "\\end{array} \\right],\n",
    "b =\n",
    "\\left[\n",
    "\\begin{array}{c}\n",
    "2\\\\ -8\n",
    "\\end{array}\n",
    "\\right], \n",
    "c =\n",
    "\\left[\n",
    "\\begin{array}{c}\n",
    "0\\\\ 0\n",
    "\\end{array}\n",
    "\\right], \n",
    "$\n",
    "\n",
    "$ f^\\prime(x) = \\dfrac{1}{2} A^T \\mathbf{x} + \\dfrac{1}{2} A \\mathbf{x} - \\mathbf{b} $\n",
    "\n",
    "- Cuando $A$ es simétrica: $ f^\\prime(x) = A \\mathbf{x} - \\mathbf{b} $\n",
    "- Entonces un punto crítico de $f(x)$ se obtiene cuando $ f^\\prime(x) = A \\mathbf{x} - \\mathbf{b} = 0$, es decir cuando $A \\mathbf{x} = \\mathbf{b}$\n"
   ]
  },
  {
   "cell_type": "code",
   "execution_count": null,
   "id": "9cc78ea4-a8fc-45e1-bd3d-aedf2d031077",
   "metadata": {},
   "outputs": [],
   "source": [
    "from mpl_toolkits.mplot3d import Axes3D\n",
    "\n",
    "def dibujaSurf(A,b):\n",
    "    def f(A,b,x,c):\n",
    "        return 0.5 * (x.T * A * x) - b.T * x + c\n",
    "\n",
    "    size_grid = 30\n",
    "    x1 = np.linspace(-3,6,size_grid)\n",
    "    y1 = np.linspace(-6,3,size_grid)\n",
    "\n",
    "    xg,yg = np.meshgrid(x1,y1)\n",
    "    z = np.zeros((size_grid, size_grid))\n",
    "\n",
    "    for i in range(size_grid):\n",
    "        for j in range(size_grid):\n",
    "            x = np.matrix([[xg[i,j]],[yg[i,j]]])\n",
    "            z[i,j] = f(A,b,x,0)\n",
    "            \n",
    "    fig = plt.figure()\n",
    "    surf = fig.gca(projection='3d')\n",
    "    surf.plot_surface(xg,yg,z,rstride=1,cstride=1, alpha=1.0, cmap='viridis')\n",
    "    surf.view_init(15, 130)\n",
    "    surf.set_xlabel('$x_0$')\n",
    "    surf.set_ylabel('$x_1$')\n",
    "    surf.set_zlabel('$f$')\n",
    "    return xg, yg, z"
   ]
  },
  {
   "cell_type": "code",
   "execution_count": null,
   "id": "5781a9e6-f447-4e03-aa54-b4ba3721f1ad",
   "metadata": {},
   "outputs": [],
   "source": [
    "xg,yg,z = dibujaSurf(A,b)"
   ]
  },
  {
   "cell_type": "code",
   "execution_count": null,
   "id": "d11bd36d-5d0d-4971-890b-9a9e46bd3310",
   "metadata": {},
   "outputs": [],
   "source": [
    "dibujaEigen(eigen, sol)\n",
    "graficaRectas(x, y0, y1, sol)\n",
    "cont = plt.contour(xg,yg,z,30,cmap='binary')"
   ]
  },
  {
   "cell_type": "markdown",
   "id": "42b93ba0-f03b-4caa-9ecd-ca97f46e2440",
   "metadata": {},
   "source": [
    "**Algoritmo del descenso del gradiente** <br>\n",
    "$\n",
    "\\begin{array}{l}\n",
    "\\text{Input} : \\mathbf{x}_0, tol \\\\\n",
    "\\mathbf{r}_0 = \\mathbf{b}-A\\mathbf{x}_0 \\\\\n",
    "k = 0 \\\\\n",
    "\\text{WHILE}(\\mathbf{r}_k > tol) \\\\\n",
    "\\qquad \\mathbf{r}_k \\leftarrow \\mathbf{b}-A\\mathbf{x}_k \\\\\n",
    "\\qquad \\alpha_k \\leftarrow \\dfrac{\\mathbf{r}_k^T\\mathbf{r}_k}{\\mathbf{r}_k^T A \\mathbf{r}_k} \\\\\n",
    "\\qquad \\mathbf{x}_{k+1} \\leftarrow \\mathbf{x}_k + \\alpha_k \\mathbf{r}_k \\\\\n",
    "\\qquad k \\leftarrow k + 1 \\\\\n",
    "\\text{ENDWHILE}\n",
    "\\end{array}\n",
    "$"
   ]
  },
  {
   "cell_type": "code",
   "execution_count": null,
   "id": "9e7aabe3-6fd9-46cf-8c63-9f5e537f4dba",
   "metadata": {},
   "outputs": [],
   "source": [
    "def steepest(A,b,x,tol,kmax):\n",
    "    print('1')\n",
    "    steps = [[x[0,0], x[1,0]]]\n",
    "    r = b - A @ x\n",
    "    res = np.linalg.norm(r)\n",
    "    k = 0\n",
    "    while(res > tol and k < kmax):\n",
    "        alpha = r.T @ r / (r.T @ A @ r)\n",
    "        x = x + r * alpha\n",
    "        steps.append([x[0,0],x[1,0]])\n",
    "        r = b - A @ x\n",
    "        res = np.linalg.norm(r)\n",
    "        k += 1\n",
    "        print(k, res)\n",
    "    return x, steps"
   ]
  },
  {
   "cell_type": "code",
   "execution_count": null,
   "id": "e6fd72e8-8fc6-4f4b-bcec-fc91a867c2ca",
   "metadata": {},
   "outputs": [],
   "source": [
    "def steepest2(A,b,x,tol,kmax):\n",
    "    steps = [[x[0,0], x[1,0]]]\n",
    "    r = b - np.dot(A, x)\n",
    "    res = np.linalg.norm(r)\n",
    "    k = 0\n",
    "    while(res > tol and k < kmax):\n",
    "        alpha = np.dot(r.T, r) / np.dot(np.dot(r.T, A), r)\n",
    "        x = x + r * alpha\n",
    "        steps.append([x[0,0],x[1,0]])\n",
    "        r = b - np.dot(A, x)\n",
    "        res = np.linalg.norm(r)\n",
    "        k += 1\n",
    "        print(k, res)\n",
    "    return x, steps"
   ]
  },
  {
   "cell_type": "code",
   "execution_count": null,
   "id": "ff2c0225-4abc-44e8-8df2-01d5f4e231cd",
   "metadata": {},
   "outputs": [],
   "source": [
    "xini = np.array([-2.0,-2.0])\n",
    "tol = 0.001\n",
    "kmax = 20\n",
    "\n",
    "xs, pasos = steepest(A,b[:,np.newaxis],xini[:,np.newaxis],tol,kmax)"
   ]
  },
  {
   "cell_type": "code",
   "execution_count": null,
   "id": "71eeb9d6-8b1d-4b24-a596-1025473792bb",
   "metadata": {},
   "outputs": [],
   "source": [
    "def dibujaPasos(xi, sol, pasos):\n",
    "    pasos = np.matrix(pasos)\n",
    "    plt.plot(pasos[:,0],pasos[:,1],'-')\n",
    "    plt.scatter(xi[0], xi[1], c='yellow', s = 75, alpha=0.75, zorder=5, label='Solución')\n",
    "    plt.scatter(sol[0], sol[1], c='red', s = 75, alpha=0.75, zorder=5, label='Solución')"
   ]
  },
  {
   "cell_type": "code",
   "execution_count": null,
   "id": "f880c5a9-fd30-43f7-a234-f4abe6c275ce",
   "metadata": {},
   "outputs": [],
   "source": [
    "dibujaEigen(eigen, sol)\n",
    "graficaRectas(x, y0, y1, sol)\n",
    "cont = plt.contour(xg,yg,z,30,cmap='binary')\n",
    "dibujaPasos(xini, sol, pasos)"
   ]
  },
  {
   "cell_type": "code",
   "execution_count": null,
   "id": "b6271975-07bf-4e93-b14a-a60f39efeed6",
   "metadata": {},
   "outputs": [],
   "source": [
    "def conjugateGradient(A,b,x0,tol,kmax):\n",
    "    r = b - A * x0\n",
    "    d = r\n",
    "    rk_norm = r.T * r\n",
    "    res = np.linalg.norm(rk_norm)\n",
    "    res_array = np.zeros(kmax)\n",
    "    k = 0\n",
    "#    print(k, res)\n",
    "    while(res > tol and k < kmax):\n",
    "        alpha = float(rk_norm) / float(d.T * (A * d))\n",
    "        x0 = x0 + alpha * d\n",
    "#        r = b - A * x\n",
    "        r = r - alpha * A * d\n",
    "        res = np.linalg.norm(r)\n",
    "        res_array[k] = res\n",
    "        rk_old = rk_norm\n",
    "        rk_norm = r.T * r\n",
    "        beta = float(rk_norm) / float(rk_old)\n",
    "        d = r + beta * d\n",
    "        k += 1\n",
    "#        print(k, res)\n",
    "    return x0, res, k, res_array"
   ]
  },
  {
   "cell_type": "code",
   "execution_count": null,
   "id": "15421b48-b7f2-4967-b54e-a1728455fcb0",
   "metadata": {},
   "outputs": [],
   "source": [
    "xs, pasos = conjugateGradient(A,b[:,np.newaxis],xini[:,np.newaxis],tol,kmax)"
   ]
  },
  {
   "cell_type": "code",
   "execution_count": null,
   "id": "3cc1292d-f191-4f3c-91ab-3063e8bc14fe",
   "metadata": {},
   "outputs": [],
   "source": [
    "xs = np.copy(xini)\n",
    "pasos = [(-2, -2.0)]\n",
    "i = 0\n",
    "imax = 10\n",
    "eps = 0.01\n",
    "r = b - A @ xs\n",
    "print('R', r)\n",
    "d = r\n",
    "deltanew = r.T @ r\n",
    "#print(deltanew)\n",
    "delta0 = deltanew\n",
    "while i < imax and deltanew > eps**2 * delta0:\n",
    "    alpha = float(deltanew / float(d.T * (A * d)))\n",
    "    xs = xs + alpha * d\n",
    "    pasos.append((xs[0, 0], xs[1, 0]))\n",
    "    r = b - A * xs\n",
    "    res = np.linalg.norm(r)\n",
    "    deltaold = deltanew\n",
    "    deltanew = r.T * r\n",
    "    #beta = -float((r.T * A * d) / float(d.T * A * d))\n",
    "    beta = float(deltanew / float(deltaold))\n",
    "    d = r + beta * d\n",
    "    i += 1\n",
    "    print(i, res)"
   ]
  },
  {
   "cell_type": "code",
   "execution_count": null,
   "id": "ad5dda00-eb55-419e-b958-58622daf033e",
   "metadata": {},
   "outputs": [],
   "source": []
  }
 ],
 "metadata": {
  "kernelspec": {
   "display_name": "Python 3",
   "language": "python",
   "name": "python3"
  },
  "language_info": {
   "codemirror_mode": {
    "name": "ipython",
    "version": 3
   },
   "file_extension": ".py",
   "mimetype": "text/x-python",
   "name": "python",
   "nbconvert_exporter": "python",
   "pygments_lexer": "ipython3",
   "version": "3.8.8"
  }
 },
 "nbformat": 4,
 "nbformat_minor": 5
}
